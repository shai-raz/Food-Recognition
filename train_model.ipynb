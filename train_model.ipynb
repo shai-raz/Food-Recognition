{
 "cells": [
  {
   "cell_type": "code",
   "execution_count": 9,
   "metadata": {},
   "outputs": [],
   "source": [
    "import os\n",
    "import numpy as np\n",
    "import tensorflow as tf\n",
    "from tensorflow import keras\n",
    "from tensorflow.keras import layers\n",
    "from tqdm import tqdm"
   ]
  },
  {
   "cell_type": "code",
   "execution_count": 10,
   "metadata": {},
   "outputs": [],
   "source": [
    "train_path = \"./foods/images\"\n",
    "test_path = \"./foods/test\"\n",
    "image_size = (180, 180)\n",
    "batch_size = 64"
   ]
  },
  {
   "cell_type": "code",
   "execution_count": 11,
   "metadata": {},
   "outputs": [
    {
     "name": "stdout",
     "output_type": "stream",
     "text": [
      "Found 4500 files belonging to 5 classes.\n",
      "Using 3600 files for training.\n",
      "Found 4500 files belonging to 5 classes.\n",
      "Using 900 files for validation.\n"
     ]
    }
   ],
   "source": [
    "train_ds = tf.keras.preprocessing.image_dataset_from_directory(\n",
    "    train_path,\n",
    "    validation_split=0.2,\n",
    "    subset=\"training\",\n",
    "    seed=1337,\n",
    "    image_size=image_size,\n",
    "    batch_size=batch_size,\n",
    "    label_mode=\"categorical\"\n",
    ")\n",
    "val_ds = tf.keras.preprocessing.image_dataset_from_directory(\n",
    "    train_path,\n",
    "    validation_split=0.2,\n",
    "    subset=\"validation\",\n",
    "    seed=1337,\n",
    "    image_size=image_size,\n",
    "    batch_size=batch_size,\n",
    "    label_mode=\"categorical\"\n",
    ")"
   ]
  },
  {
   "cell_type": "code",
   "execution_count": 12,
   "metadata": {},
   "outputs": [
    {
     "data": {
      "text/plain": [
       "['falafel', 'french_fries', 'ice_cream', 'pancakes', 'pizza']"
      ]
     },
     "execution_count": 12,
     "metadata": {},
     "output_type": "execute_result"
    }
   ],
   "source": [
    "def get_label(y):\n",
    "    return label_names[np.argmax(y, axis=0)]\n",
    "\n",
    "label_names = []\n",
    "for dir in os.listdir(train_path):\n",
    "    label_names += [dir]\n",
    "\n",
    "label_names"
   ]
  },
  {
   "cell_type": "code",
   "execution_count": 13,
   "metadata": {},
   "outputs": [],
   "source": [
    "from keras.models import Sequential\n",
    "from keras.layers import InputLayer, Rescaling, Conv2D, Flatten, Dense, MaxPooling2D, Dropout, RandomFlip, RandomRotation, BatchNormalization, RandomZoom, RandomTranslation\n",
    "from tensorflow.keras import activations\n",
    "from tensorflow.keras.optimizers import Adam\n",
    "from tensorflow.keras.callbacks import ReduceLROnPlateau"
   ]
  },
  {
   "cell_type": "code",
   "execution_count": 14,
   "metadata": {},
   "outputs": [],
   "source": [
    "model = Sequential() # linear stack of layers\n",
    "\n",
    "model.add(InputLayer(input_shape=(180, 180, 3))) # input layer\n",
    "model.add(RandomFlip(\"horizontal\")) # random flip\n",
    "model.add(RandomRotation(0.1)) # random rotation\n",
    "model.add(Rescaling(1.0/255)) # rescale pixel values to 0-1\n",
    "\n",
    "model.add(Conv2D(filters = 32, kernel_size = (5, 5), padding = \"same\", activation = \"relu\")) # convolutional layer\n",
    "model.add(MaxPooling2D(pool_size = (2, 2))) # max pooling layer\n",
    "model.add(BatchNormalization()) # batch normalization layer\n",
    "\n",
    "# lowering kernel size\n",
    "model.add(Conv2D(filters = 64, kernel_size = (3, 3), padding = \"same\", activation = \"relu\")) # convolutional layer \n",
    "model.add(MaxPooling2D(pool_size = (2, 2))) # max pooling layer\n",
    "model.add(BatchNormalization()) # batch normalization layer\n",
    "\n",
    "model.add(Conv2D(filters = 96, kernel_size = (3, 3), padding = \"same\", activation = \"relu\")) # convolutional layer\n",
    "model.add(MaxPooling2D(pool_size = (2, 2))) # max pooling layer\n",
    "model.add(BatchNormalization()) # batch normalization layer\n",
    "\n",
    "model.add(Conv2D(filters = 128, kernel_size = (3, 3), padding = \"same\", activation = \"relu\")) # convolutional layer\n",
    "model.add(MaxPooling2D(pool_size = (2, 2))) # max pooling layer\n",
    "model.add(BatchNormalization()) # batch normalization layer\n",
    "\n",
    "model.add(Conv2D(filters = 128, kernel_size = (3, 3), padding = \"same\", activation = \"relu\")) # convolutional layer\n",
    "model.add(MaxPooling2D(pool_size = (2, 2))) # max pooling layer\n",
    "model.add(BatchNormalization()) # batch normalization layer\n",
    "\n",
    "model.add(Flatten()) # flatten the output of the convolutional layers\n",
    "model.add(Dense(512, activation = activations.relu)) # fully connected layer\n",
    "model.add(Dropout(0.5)) # dropout layer\n",
    "model.add(Dense(5, activation = \"softmax\")) # output layer\n"
   ]
  },
  {
   "cell_type": "code",
   "execution_count": 15,
   "metadata": {},
   "outputs": [
    {
     "name": "stdout",
     "output_type": "stream",
     "text": [
      "Model: \"sequential_1\"\n",
      "_________________________________________________________________\n",
      " Layer (type)                Output Shape              Param #   \n",
      "=================================================================\n",
      " random_flip_1 (RandomFlip)  (None, 180, 180, 3)       0         \n",
      "                                                                 \n",
      " random_rotation_1 (RandomRo  (None, 180, 180, 3)      0         \n",
      " tation)                                                         \n",
      "                                                                 \n",
      " rescaling_1 (Rescaling)     (None, 180, 180, 3)       0         \n",
      "                                                                 \n",
      " conv2d_5 (Conv2D)           (None, 180, 180, 32)      2432      \n",
      "                                                                 \n",
      " max_pooling2d_5 (MaxPooling  (None, 90, 90, 32)       0         \n",
      " 2D)                                                             \n",
      "                                                                 \n",
      " batch_normalization_5 (Batc  (None, 90, 90, 32)       128       \n",
      " hNormalization)                                                 \n",
      "                                                                 \n",
      " conv2d_6 (Conv2D)           (None, 90, 90, 64)        18496     \n",
      "                                                                 \n",
      " max_pooling2d_6 (MaxPooling  (None, 45, 45, 64)       0         \n",
      " 2D)                                                             \n",
      "                                                                 \n",
      " batch_normalization_6 (Batc  (None, 45, 45, 64)       256       \n",
      " hNormalization)                                                 \n",
      "                                                                 \n",
      " conv2d_7 (Conv2D)           (None, 45, 45, 96)        55392     \n",
      "                                                                 \n",
      " max_pooling2d_7 (MaxPooling  (None, 22, 22, 96)       0         \n",
      " 2D)                                                             \n",
      "                                                                 \n",
      " batch_normalization_7 (Batc  (None, 22, 22, 96)       384       \n",
      " hNormalization)                                                 \n",
      "                                                                 \n",
      " conv2d_8 (Conv2D)           (None, 22, 22, 128)       110720    \n",
      "                                                                 \n",
      " max_pooling2d_8 (MaxPooling  (None, 11, 11, 128)      0         \n",
      " 2D)                                                             \n",
      "                                                                 \n",
      " batch_normalization_8 (Batc  (None, 11, 11, 128)      512       \n",
      " hNormalization)                                                 \n",
      "                                                                 \n",
      " conv2d_9 (Conv2D)           (None, 11, 11, 128)       147584    \n",
      "                                                                 \n",
      " max_pooling2d_9 (MaxPooling  (None, 5, 5, 128)        0         \n",
      " 2D)                                                             \n",
      "                                                                 \n",
      " batch_normalization_9 (Batc  (None, 5, 5, 128)        512       \n",
      " hNormalization)                                                 \n",
      "                                                                 \n",
      " flatten_1 (Flatten)         (None, 3200)              0         \n",
      "                                                                 \n",
      " dense_2 (Dense)             (None, 512)               1638912   \n",
      "                                                                 \n",
      " dropout_1 (Dropout)         (None, 512)               0         \n",
      "                                                                 \n",
      " dense_3 (Dense)             (None, 5)                 2565      \n",
      "                                                                 \n",
      "=================================================================\n",
      "Total params: 1,977,893\n",
      "Trainable params: 1,976,997\n",
      "Non-trainable params: 896\n",
      "_________________________________________________________________\n"
     ]
    }
   ],
   "source": [
    "model.compile(optimizer=Adam(learning_rate=0.005), loss=\"categorical_crossentropy\", metrics=['accuracy'])\n",
    "model.summary()"
   ]
  },
  {
   "cell_type": "code",
   "execution_count": 16,
   "metadata": {},
   "outputs": [
    {
     "name": "stdout",
     "output_type": "stream",
     "text": [
      "Epoch 1/50\n",
      "57/57 [==============================] - 9s 95ms/step - loss: 4.7365 - accuracy: 0.2953 - val_loss: 23.0228 - val_accuracy: 0.2122 - lr: 0.0050\n",
      "Epoch 2/50\n",
      "57/57 [==============================] - 5s 85ms/step - loss: 1.5224 - accuracy: 0.3394 - val_loss: 10.0400 - val_accuracy: 0.2289 - lr: 0.0050\n",
      "Epoch 3/50\n",
      "57/57 [==============================] - 5s 85ms/step - loss: 1.4821 - accuracy: 0.3425 - val_loss: 3.8299 - val_accuracy: 0.2967 - lr: 0.0050\n",
      "Epoch 4/50\n",
      "57/57 [==============================] - 5s 84ms/step - loss: 1.4893 - accuracy: 0.3506 - val_loss: 3.9691 - val_accuracy: 0.3178 - lr: 0.0050\n",
      "Epoch 5/50\n",
      "57/57 [==============================] - 5s 85ms/step - loss: 1.4823 - accuracy: 0.3439 - val_loss: 1.9779 - val_accuracy: 0.3489 - lr: 0.0050\n",
      "Epoch 6/50\n",
      "57/57 [==============================] - 5s 88ms/step - loss: 1.4884 - accuracy: 0.3467 - val_loss: 1.4454 - val_accuracy: 0.3811 - lr: 0.0050\n",
      "Epoch 7/50\n",
      "57/57 [==============================] - 5s 89ms/step - loss: 1.4596 - accuracy: 0.3811 - val_loss: 1.3528 - val_accuracy: 0.4489 - lr: 0.0050\n",
      "Epoch 8/50\n",
      "57/57 [==============================] - 5s 87ms/step - loss: 1.4575 - accuracy: 0.3814 - val_loss: 1.4442 - val_accuracy: 0.4256 - lr: 0.0050\n",
      "Epoch 9/50\n",
      "57/57 [==============================] - 5s 85ms/step - loss: 1.4647 - accuracy: 0.3808 - val_loss: 1.3810 - val_accuracy: 0.4344 - lr: 0.0050\n",
      "Epoch 10/50\n",
      "57/57 [==============================] - 5s 85ms/step - loss: 1.4472 - accuracy: 0.4058 - val_loss: 1.3554 - val_accuracy: 0.4589 - lr: 0.0050\n",
      "Epoch 11/50\n",
      "57/57 [==============================] - 5s 84ms/step - loss: 1.4226 - accuracy: 0.3994 - val_loss: 1.3644 - val_accuracy: 0.4367 - lr: 0.0050\n",
      "Epoch 12/50\n",
      "57/57 [==============================] - 5s 84ms/step - loss: 1.4075 - accuracy: 0.4156 - val_loss: 1.3533 - val_accuracy: 0.4689 - lr: 0.0050\n",
      "Epoch 13/50\n",
      "57/57 [==============================] - 5s 84ms/step - loss: 1.3822 - accuracy: 0.4222 - val_loss: 1.4949 - val_accuracy: 0.4111 - lr: 0.0035\n",
      "Epoch 14/50\n",
      "57/57 [==============================] - 5s 84ms/step - loss: 1.3361 - accuracy: 0.4617 - val_loss: 1.2900 - val_accuracy: 0.4778 - lr: 0.0035\n",
      "Epoch 15/50\n",
      "57/57 [==============================] - 5s 84ms/step - loss: 1.3361 - accuracy: 0.4692 - val_loss: 1.3600 - val_accuracy: 0.5000 - lr: 0.0035\n",
      "Epoch 16/50\n",
      "57/57 [==============================] - 5s 84ms/step - loss: 1.2832 - accuracy: 0.4961 - val_loss: 1.3795 - val_accuracy: 0.4500 - lr: 0.0035\n",
      "Epoch 17/50\n",
      "57/57 [==============================] - 5s 84ms/step - loss: 1.2656 - accuracy: 0.5031 - val_loss: 1.1704 - val_accuracy: 0.5389 - lr: 0.0035\n",
      "Epoch 18/50\n",
      "57/57 [==============================] - 5s 84ms/step - loss: 1.2571 - accuracy: 0.5072 - val_loss: 1.3198 - val_accuracy: 0.4889 - lr: 0.0035\n",
      "Epoch 19/50\n",
      "57/57 [==============================] - 5s 85ms/step - loss: 1.2308 - accuracy: 0.5164 - val_loss: 1.0898 - val_accuracy: 0.5900 - lr: 0.0035\n",
      "Epoch 20/50\n",
      "57/57 [==============================] - 5s 84ms/step - loss: 1.1592 - accuracy: 0.5558 - val_loss: 1.1057 - val_accuracy: 0.5944 - lr: 0.0035\n",
      "Epoch 21/50\n",
      "57/57 [==============================] - 5s 85ms/step - loss: 1.1263 - accuracy: 0.5739 - val_loss: 1.3493 - val_accuracy: 0.5344 - lr: 0.0035\n",
      "Epoch 22/50\n",
      "57/57 [==============================] - 5s 85ms/step - loss: 1.1196 - accuracy: 0.5808 - val_loss: 1.0442 - val_accuracy: 0.6267 - lr: 0.0035\n",
      "Epoch 23/50\n",
      "57/57 [==============================] - 5s 86ms/step - loss: 1.1044 - accuracy: 0.5794 - val_loss: 1.0427 - val_accuracy: 0.6333 - lr: 0.0035\n",
      "Epoch 24/50\n",
      "57/57 [==============================] - 5s 84ms/step - loss: 1.0525 - accuracy: 0.6128 - val_loss: 2.8680 - val_accuracy: 0.2378 - lr: 0.0035\n",
      "Epoch 25/50\n",
      "57/57 [==============================] - 5s 84ms/step - loss: 1.0227 - accuracy: 0.6133 - val_loss: 1.1407 - val_accuracy: 0.5789 - lr: 0.0035\n",
      "Epoch 26/50\n",
      "57/57 [==============================] - 5s 84ms/step - loss: 0.9302 - accuracy: 0.6606 - val_loss: 0.8762 - val_accuracy: 0.6689 - lr: 0.0035\n",
      "Epoch 27/50\n",
      "57/57 [==============================] - 5s 85ms/step - loss: 0.9396 - accuracy: 0.6497 - val_loss: 1.6727 - val_accuracy: 0.4089 - lr: 0.0035\n",
      "Epoch 28/50\n",
      "57/57 [==============================] - 5s 85ms/step - loss: 0.9219 - accuracy: 0.6675 - val_loss: 1.2166 - val_accuracy: 0.5633 - lr: 0.0035\n",
      "Epoch 29/50\n",
      "57/57 [==============================] - 5s 85ms/step - loss: 0.8756 - accuracy: 0.6839 - val_loss: 0.9192 - val_accuracy: 0.6911 - lr: 0.0035\n",
      "Epoch 30/50\n",
      "57/57 [==============================] - 5s 86ms/step - loss: 0.8409 - accuracy: 0.6875 - val_loss: 0.9465 - val_accuracy: 0.6600 - lr: 0.0035\n",
      "Epoch 31/50\n",
      "57/57 [==============================] - 5s 86ms/step - loss: 0.7795 - accuracy: 0.7203 - val_loss: 1.0314 - val_accuracy: 0.6478 - lr: 0.0035\n",
      "Epoch 32/50\n",
      "57/57 [==============================] - 5s 86ms/step - loss: 0.7477 - accuracy: 0.7328 - val_loss: 0.7594 - val_accuracy: 0.7322 - lr: 0.0025\n",
      "Epoch 33/50\n",
      "57/57 [==============================] - 5s 86ms/step - loss: 0.7026 - accuracy: 0.7472 - val_loss: 1.3656 - val_accuracy: 0.6256 - lr: 0.0025\n",
      "Epoch 34/50\n",
      "57/57 [==============================] - 5s 84ms/step - loss: 0.6905 - accuracy: 0.7464 - val_loss: 0.7797 - val_accuracy: 0.7178 - lr: 0.0025\n",
      "Epoch 35/50\n",
      "57/57 [==============================] - 5s 84ms/step - loss: 0.6225 - accuracy: 0.7753 - val_loss: 0.9699 - val_accuracy: 0.6767 - lr: 0.0025\n",
      "Epoch 36/50\n",
      "57/57 [==============================] - 5s 85ms/step - loss: 0.6087 - accuracy: 0.7814 - val_loss: 0.8291 - val_accuracy: 0.7144 - lr: 0.0025\n",
      "Epoch 37/50\n",
      "57/57 [==============================] - 5s 85ms/step - loss: 0.5805 - accuracy: 0.7972 - val_loss: 0.8242 - val_accuracy: 0.7289 - lr: 0.0025\n",
      "Epoch 38/50\n",
      "57/57 [==============================] - 5s 85ms/step - loss: 0.5486 - accuracy: 0.8044 - val_loss: 0.7940 - val_accuracy: 0.7444 - lr: 0.0017\n",
      "Epoch 39/50\n",
      "57/57 [==============================] - 5s 85ms/step - loss: 0.4895 - accuracy: 0.8222 - val_loss: 0.7472 - val_accuracy: 0.7511 - lr: 0.0017\n",
      "Epoch 40/50\n",
      "57/57 [==============================] - 5s 85ms/step - loss: 0.4625 - accuracy: 0.8344 - val_loss: 0.9296 - val_accuracy: 0.7311 - lr: 0.0017\n",
      "Epoch 41/50\n",
      "57/57 [==============================] - 5s 85ms/step - loss: 0.4407 - accuracy: 0.8428 - val_loss: 0.6955 - val_accuracy: 0.7511 - lr: 0.0017\n",
      "Epoch 42/50\n",
      "57/57 [==============================] - 5s 85ms/step - loss: 0.4200 - accuracy: 0.8408 - val_loss: 1.0860 - val_accuracy: 0.7178 - lr: 0.0017\n",
      "Epoch 43/50\n",
      "57/57 [==============================] - 5s 85ms/step - loss: 0.3932 - accuracy: 0.8514 - val_loss: 1.3119 - val_accuracy: 0.6856 - lr: 0.0017\n",
      "Epoch 44/50\n",
      "57/57 [==============================] - 5s 85ms/step - loss: 0.4140 - accuracy: 0.8522 - val_loss: 0.8011 - val_accuracy: 0.7589 - lr: 0.0017\n",
      "Epoch 45/50\n",
      "57/57 [==============================] - 5s 85ms/step - loss: 0.3768 - accuracy: 0.8644 - val_loss: 1.2018 - val_accuracy: 0.6822 - lr: 0.0017\n",
      "Epoch 46/50\n",
      "57/57 [==============================] - 5s 86ms/step - loss: 0.3723 - accuracy: 0.8672 - val_loss: 0.8633 - val_accuracy: 0.7578 - lr: 0.0017\n",
      "Epoch 47/50\n",
      "57/57 [==============================] - 5s 85ms/step - loss: 0.3182 - accuracy: 0.8842 - val_loss: 1.0285 - val_accuracy: 0.7267 - lr: 0.0012\n",
      "Epoch 48/50\n",
      "57/57 [==============================] - 5s 85ms/step - loss: 0.3170 - accuracy: 0.8853 - val_loss: 0.7044 - val_accuracy: 0.7811 - lr: 0.0012\n",
      "Epoch 49/50\n",
      "57/57 [==============================] - 5s 85ms/step - loss: 0.2953 - accuracy: 0.8969 - val_loss: 0.9472 - val_accuracy: 0.7600 - lr: 0.0012\n",
      "Epoch 50/50\n",
      "57/57 [==============================] - 5s 86ms/step - loss: 0.2821 - accuracy: 0.9017 - val_loss: 0.9732 - val_accuracy: 0.7511 - lr: 0.0012\n"
     ]
    }
   ],
   "source": [
    "callbacks=[\n",
    "    keras.callbacks.ModelCheckpoint(\"./saved_models/7_{epoch}.h5\"),\n",
    "    ReduceLROnPlateau(monitor='val_loss', factor=0.7, patience=5, min_lr=0.001),\n",
    "]\n",
    "\n",
    "history = model.fit(train_ds, epochs=50, validation_data=val_ds, batch_size=64, callbacks=callbacks)"
   ]
  },
  {
   "cell_type": "code",
   "execution_count": 17,
   "metadata": {},
   "outputs": [],
   "source": [
    "import matplotlib.pyplot as plt"
   ]
  },
  {
   "cell_type": "code",
   "execution_count": 18,
   "metadata": {},
   "outputs": [
    {
     "data": {
      "image/png": "[encoded data removed]",
      "text/plain": [
       "<Figure size 432x288 with 1 Axes>"
      ]
     },
     "metadata": {
      "needs_background": "light"
     },
     "output_type": "display_data"
    },
    {
     "data": {
      "image/png": "[encoded data removed]",
      "text/plain": [
       "<Figure size 432x288 with 1 Axes>"
      ]
     },
     "metadata": {
      "needs_background": "light"
     },
     "output_type": "display_data"
    }
   ],
   "source": [
    "plt.plot(history.history['loss'])\n",
    "plt.plot(history.history['val_loss'])\n",
    "plt.title('Model Loss')\n",
    "plt.ylabel('Loss')\n",
    "plt.xlabel('Epochs')\n",
    "plt.legend(['train', 'validation'])\n",
    "plt.show()\n",
    "\n",
    "plt.plot(history.history['accuracy'])\n",
    "plt.plot(history.history['val_accuracy'])\n",
    "plt.title('Model Accuracy')\n",
    "plt.ylabel('Accuracy')\n",
    "plt.xlabel('Epochs')\n",
    "plt.legend(['train', 'validation'])\n",
    "plt.show()"
   ]
  }
 ],
 "metadata": {
  "interpreter": {
   "hash": "2da975c269e80595c373c28321d38360463197fbea7ba705e3d0eed7b1971697"
  },
  "kernelspec": {
   "display_name": "Python 3.9.1 64-bit",
   "language": "python",
   "name": "python3"
  },
  "language_info": {
   "codemirror_mode": {
    "name": "ipython",
    "version": 3
   },
   "file_extension": ".py",
   "mimetype": "text/x-python",
   "name": "python",
   "nbconvert_exporter": "python",
   "pygments_lexer": "ipython3",
   "version": "3.9.1"
  },
  "orig_nbformat": 4
 },
 "nbformat": 4,
 "nbformat_minor": 2
}
